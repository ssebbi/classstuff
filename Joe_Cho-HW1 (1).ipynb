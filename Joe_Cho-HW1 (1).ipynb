{
 "cells": [
  {
   "cell_type": "markdown",
   "metadata": {},
   "source": [
    "# HW 1: Investigating the SARS-nCoV-2 Genome\n",
    "This is your first set of coding excrecises. Please submit the modified file as your completed homework. Name the file firstname_lastname-HW1.ipynb\n",
    "\n",
    "\n",
    "The accompanying file entitled MT118835.1 is the raw text of one of the first sequenced genomes of the SARS-nCoV-2 in California. This particular isolate was found in Solano county outside of San Francisco. \n",
    "\n",
    "*Please remember to comment your code so that we can see how you were thinking about the excercises and give partial credit if your answers are not exactly correct*\n",
    "\n",
    "To load the file put it into your current directory. Which is the same one that you have this script saved into. "
   ]
  },
  {
   "cell_type": "code",
   "execution_count": 1,
   "metadata": {},
   "outputs": [],
   "source": [
    "#Load the genome\n",
    "filename = \"MT118835.1\"\n",
    "\n",
    "coronaGenome = open(filename).read()"
   ]
  },
  {
   "cell_type": "markdown",
   "metadata": {},
   "source": [
    "## Excercise 1: Transcription\n",
    "\n",
    "Create a function called `dna2rna` that takes the `coronaGenome` and converts all of the `t` into `u`. This function is converting DNA into RNA and more accurately represents the genome of the corona virus since it has an RNA-based genome. Save the output of the function into a new variable called `coronaRNAgenome`.\n",
    "\n"
   ]
  },
  {
   "cell_type": "code",
   "execution_count": null,
   "metadata": {},
   "outputs": [],
   "source": [
    "def dna2rna(levi):\n",
    "    coronaRNAgenome=levi.replace('t','u')\n",
    "    return coronaRNAgenome\n",
    "\n",
    "tester=dna2rna(coronaGenome)\n",
    "tester"
   ]
  },
  {
   "cell_type": "markdown",
   "metadata": {},
   "source": [
    "## Excercise 2: Pattern Matching\n",
    "Make a second function that has two arguments. One is `coronaGenome` and the second is an sequence of RNA called `query` that the user can decide on. Have the function return the number of instances of that string. How many instances are their of 'auguacg', 'auguac', 'augua', 'augu', 'aug', 'au', and 'a'?\n"
   ]
  },
  {
   "cell_type": "code",
   "execution_count": 13,
   "metadata": {},
   "outputs": [],
   "source": [
    "def rnasearch(coronaGenome, query):\n",
    "    coronaRNAgenome=dna2rna(coronaGenome)\n",
    "    count=coronaRNAgenome.find(query)\n",
    "    return count"
   ]
  },
  {
   "cell_type": "markdown",
   "metadata": {},
   "source": [
    "## Excercise 3: Mutation\n",
    "\n",
    "Now let's simulate the process of mutation. This is a random process so we are going to have to bring in python's random number generator. \n",
    "\n",
    "In the cell below, use the `rd.choice` function to pick a random base from the four possibilities 'a','u','c','g'"
   ]
  },
  {
   "cell_type": "code",
   "execution_count": 3,
   "metadata": {},
   "outputs": [],
   "source": [
    "\n",
    "import random as rd\n",
    "rd.choice('aucg')\n",
    "\n",
    "def mutate(coronaGenome, mutationRate):\n",
    "    coronaRNAgenome=dna2rna(coronaGenome)\n",
    "    mutatedgenome=''\n",
    "    for base in coronaRNAgenome:\n",
    "        rd.random()\n",
    "        if rd.random()<=mutationRate:\n",
    "            mutatedgenome+=rd.choice('aucg')\n",
    "        else:\n",
    "            mutatedgenome+=base\n",
    "    return mutatedgenome"
   ]
  },
  {
   "cell_type": "markdown",
   "metadata": {},
   "source": [
    "Next create a function called `mutate` that iterates through every base of the `coronaRNAgenome` and depending on a second parameter called `mutationRate` uses the `rd.choice` function to randomly change a base pair. HIV has a mutation rate of 10^-3 mutations per base pair per replication cycle whearas covid-19 is has been estimated to be closer to 10^-4 to 10^-5 mut/bp/cycle. \n",
    "\n",
    "HINT: One possible implimentation could use the following line:\n",
    "`if rd.random() > mutationRate:`\n",
    "This line will most likely be paired with an `else` statement."
   ]
  },
  {
   "cell_type": "markdown",
   "metadata": {},
   "source": [
    "## Excercise 4: Translation and the Spike\n",
    "\n",
    "Finally, in order for the coronavirus to manipulate the cells in our bodies parts of its RNA genome must be translated into protein.\n",
    "\n",
    "Build a function called `RNA2Protein()` that translates any sequence of RNA to protein using the codon table.\n"
   ]
  },
  {
   "cell_type": "code",
   "execution_count": null,
   "metadata": {},
   "outputs": [],
   "source": [
    "rd.random()\n",
    "\n",
    "def RNA2Protein(Rgen):\n",
    "    humcodon={'uuu':'Phe',\n",
    "              'uuc':'Phe',\n",
    "              'uua':'Leu',\n",
    "              'uug':'Leu',\n",
    "              'ucu':'Ser',\n",
    "              'ucc':'Ser',\n",
    "              'uca':'Ser',\n",
    "              'ucg':'Ser',\n",
    "              'uau':'Tyr',\n",
    "              'uac':'Tyr',\n",
    "              'uaa':'XXX',\n",
    "              'uag':'XXX',\n",
    "              'ugu':'Cys',\n",
    "              'ugc':'Cys',\n",
    "              'uga':'XXX',\n",
    "              'ugg':'Trp',\n",
    "              'cuu':'Leu',\n",
    "              'cuc':'Leu',\n",
    "              'cua':'Leu',\n",
    "              'cug':'Leu',\n",
    "              'ccu':'Pro',\n",
    "              'ccc':'Pro',\n",
    "              'cca':'Pro',\n",
    "              'ccg':'Pro',\n",
    "              'cau':'His',\n",
    "              'cac':'His',\n",
    "              'caa':'Gin',\n",
    "              'cag':'Gin',\n",
    "              'cgu':'Arg',\n",
    "              'cgc':'Arg',\n",
    "              'cga':'Arg',\n",
    "              'cgg':'Arg',\n",
    "              'auu':'Ile',\n",
    "              'auc':'Ile',\n",
    "              'aua':'Ile',\n",
    "              'aug':'Met',\n",
    "              'acu':'Thr',\n",
    "              'acc':'Thr',\n",
    "              'aca':'Thr',\n",
    "              'acg':'Thr',\n",
    "              'aau':'Asn',\n",
    "              'aac':'Asn',\n",
    "              'aaa':'Lys',\n",
    "              'aag':'Lys',\n",
    "              'agu':'Ser',\n",
    "              'agc':'Ser',\n",
    "              'agg':'Arg',\n",
    "              'aga':'Arg',\n",
    "              'guu':'Val',\n",
    "              'guc':'Val',\n",
    "              'gua':'Val',\n",
    "              'gug':'Val',\n",
    "              'gcu':'Ala',\n",
    "              'gcc':'Ala',\n",
    "              'gca':'Ala',\n",
    "              'gcg':'Ala',\n",
    "              'gau':'Asp',\n",
    "              'gac':'Asp',\n",
    "              'gaa':'Glu',\n",
    "              'gag':'Glu',\n",
    "              'ggu':'Gly',\n",
    "              'ggc':'Gly',\n",
    "              'gga':'Gly',\n",
    "              'ggg':'Gly',}\n",
    "    \n",
    "    aaseq=''\n",
    "   \n",
    "    for num in range(0,len(Rgen),3):\n",
    "        codon=Rgen[num:num+3]\n",
    "        if num>=len(Rgen)-2:\n",
    "            break\n",
    "        aaseq+=humcodon[codon]\n",
    "    \n",
    "\n",
    "    return aaseq\n",
    "\n",
    "RNA2Protein(dna2rna(coronaGenome))"
   ]
  },
  {
   "cell_type": "markdown",
   "metadata": {},
   "source": [
    "Using the two functions that you have created, transcribe and then translate the Spike which is located here: `coronaGenome[21601:25390]`  \n",
    "A mutation of codon 614 from aspartic acid (D), which has a strong negative charge, to glycine (G), which has no side chain. This change enhances transmission and swept the world population of sequenced genomes by May 2020.  \n",
    "Does the isolate we are analyzing here have the D or G at this position?"
   ]
  },
  {
   "cell_type": "code",
   "execution_count": 129,
   "metadata": {},
   "outputs": [
    {
     "data": {
      "text/plain": [
       "'Asp'"
      ]
     },
     "execution_count": 129,
     "metadata": {},
     "output_type": "execute_result"
    }
   ],
   "source": [
    "RNA2Protein(dna2rna(coronaGenome[21601:25390]))\n",
    "DorG=RNA2Protein(dna2rna(coronaGenome[21601:25390]))\n",
    "DorG[1839:1842] #614x3-3 = 1839th base\n",
    "# Answer: We have D at this position"
   ]
  },
  {
   "cell_type": "markdown",
   "metadata": {},
   "source": [
    "## Excercise 5: Open Reading frames\n",
    "\n",
    "A standard function in genome annotation is one that identifies all open reading frames in a sequence of interest. Write a function called 'ReturnReadingFrame()' to locate and return the start and end index of all ORFs and what frame they are in. Corona viruses are single stranded RNA viruses so there is no translation from the \"bottom strand.\" \n",
    "\n",
    "Evaluate the corona genome sequence with this function and return the potential peptides greater than 10AA in length. Please comment on what strategies you could incorpoarate to increase the likelihood of returning only the peptides that are actually translated. \n",
    "\n",
    "If you are unsure where to start, https://en.wikipedia.org/wiki/Open_reading_frame should provide you with a good place to start"
   ]
  },
  {
   "cell_type": "code",
   "execution_count": 144,
   "metadata": {},
   "outputs": [
    {
     "ename": "KeyError",
     "evalue": "'aa'",
     "output_type": "error",
     "traceback": [
      "\u001b[0;31m---------------------------------------------------------------------------\u001b[0m",
      "\u001b[0;31mKeyError\u001b[0m                                  Traceback (most recent call last)",
      "\u001b[0;32m/var/folders/mj/969cfm7501j0d_pl2mxjfj7c0000gn/T/ipykernel_21288/3597773230.py\u001b[0m in \u001b[0;36m<module>\u001b[0;34m\u001b[0m\n\u001b[1;32m     83\u001b[0m     \u001b[0;32mreturn\u001b[0m \u001b[0;34m''\u001b[0m\u001b[0;34m.\u001b[0m\u001b[0mjoin\u001b[0m\u001b[0;34m(\u001b[0m\u001b[0maasequences\u001b[0m\u001b[0;34m)\u001b[0m\u001b[0;34m\u001b[0m\u001b[0;34m\u001b[0m\u001b[0m\n\u001b[1;32m     84\u001b[0m \u001b[0;34m\u001b[0m\u001b[0m\n\u001b[0;32m---> 85\u001b[0;31m \u001b[0mReturnReadingFrame\u001b[0m\u001b[0;34m(\u001b[0m\u001b[0mdna2rna\u001b[0m\u001b[0;34m(\u001b[0m\u001b[0mcoronaGenome\u001b[0m\u001b[0;34m)\u001b[0m\u001b[0;34m)\u001b[0m\u001b[0;34m\u001b[0m\u001b[0;34m\u001b[0m\u001b[0m\n\u001b[0m",
      "\u001b[0;32m/var/folders/mj/969cfm7501j0d_pl2mxjfj7c0000gn/T/ipykernel_21288/3597773230.py\u001b[0m in \u001b[0;36mReturnReadingFrame\u001b[0;34m(Rgen)\u001b[0m\n\u001b[1;32m     74\u001b[0m             \u001b[0;32mfor\u001b[0m \u001b[0mnum2\u001b[0m \u001b[0;32min\u001b[0m \u001b[0mrange\u001b[0m\u001b[0;34m(\u001b[0m\u001b[0mnum\u001b[0m\u001b[0;34m,\u001b[0m\u001b[0mlen\u001b[0m\u001b[0;34m(\u001b[0m\u001b[0mRgen\u001b[0m\u001b[0;34m)\u001b[0m\u001b[0;34m,\u001b[0m\u001b[0;36m3\u001b[0m\u001b[0;34m)\u001b[0m\u001b[0;34m:\u001b[0m\u001b[0;34m\u001b[0m\u001b[0;34m\u001b[0m\u001b[0m\n\u001b[1;32m     75\u001b[0m                 \u001b[0mcodon2\u001b[0m\u001b[0;34m=\u001b[0m\u001b[0mRgen\u001b[0m\u001b[0;34m[\u001b[0m\u001b[0mnum2\u001b[0m\u001b[0;34m:\u001b[0m\u001b[0mnum2\u001b[0m\u001b[0;34m+\u001b[0m\u001b[0;36m3\u001b[0m\u001b[0;34m]\u001b[0m\u001b[0;34m\u001b[0m\u001b[0;34m\u001b[0m\u001b[0m\n\u001b[0;32m---> 76\u001b[0;31m                 \u001b[0maasequences2\u001b[0m\u001b[0;34m+=\u001b[0m\u001b[0mhumcodon\u001b[0m\u001b[0;34m[\u001b[0m\u001b[0mcodon2\u001b[0m\u001b[0;34m]\u001b[0m \u001b[0;31m#stores the aa sequence that follows after a 'Met'\u001b[0m\u001b[0;34m\u001b[0m\u001b[0;34m\u001b[0m\u001b[0m\n\u001b[0m\u001b[1;32m     77\u001b[0m                 \u001b[0;32mif\u001b[0m \u001b[0mhumcodon\u001b[0m\u001b[0;34m[\u001b[0m\u001b[0mcodon2\u001b[0m\u001b[0;34m]\u001b[0m\u001b[0;34m==\u001b[0m\u001b[0;34m'XXX'\u001b[0m\u001b[0;34m:\u001b[0m\u001b[0;34m\u001b[0m\u001b[0;34m\u001b[0m\u001b[0m\n\u001b[1;32m     78\u001b[0m                     \u001b[0;32mif\u001b[0m \u001b[0mlen\u001b[0m\u001b[0;34m(\u001b[0m\u001b[0maasequences2\u001b[0m\u001b[0;34m)\u001b[0m\u001b[0;34m>\u001b[0m\u001b[0;36m30\u001b[0m\u001b[0;34m:\u001b[0m \u001b[0;31m#if placeholder aa sequence is greater than 10, it gets added to the main aa sequence list\u001b[0m\u001b[0;34m\u001b[0m\u001b[0;34m\u001b[0m\u001b[0m\n",
      "\u001b[0;31mKeyError\u001b[0m: 'aa'"
     ]
    }
   ],
   "source": [
    "def ReturnReadingFrame(Rgen):\n",
    "    humcodon={'uuu':'Phe',\n",
    "              'uuc':'Phe',\n",
    "              'uua':'Leu',\n",
    "              'uug':'Leu',\n",
    "              'ucu':'Ser',\n",
    "              'ucc':'Ser',\n",
    "              'uca':'Ser',\n",
    "              'ucg':'Ser',\n",
    "              'uau':'Tyr',\n",
    "              'uac':'Tyr',\n",
    "              'uaa':'XXX',\n",
    "              'uag':'XXX',\n",
    "              'ugu':'Cys',\n",
    "              'ugc':'Cys',\n",
    "              'uga':'XXX',\n",
    "              'ugg':'Trp',\n",
    "              'cuu':'Leu',\n",
    "              'cuc':'Leu',\n",
    "              'cua':'Leu',\n",
    "              'cug':'Leu',\n",
    "              'ccu':'Pro',\n",
    "              'ccc':'Pro',\n",
    "              'cca':'Pro',\n",
    "              'ccg':'Pro',\n",
    "              'cau':'His',\n",
    "              'cac':'His',\n",
    "              'caa':'Gin',\n",
    "              'cag':'Gin',\n",
    "              'cgu':'Arg',\n",
    "              'cgc':'Arg',\n",
    "              'cga':'Arg',\n",
    "              'cgg':'Arg',\n",
    "              'auu':'Ile',\n",
    "              'auc':'Ile',\n",
    "              'aua':'Ile',\n",
    "              'aug':'Met',\n",
    "              'acu':'Thr',\n",
    "              'acc':'Thr',\n",
    "              'aca':'Thr',\n",
    "              'acg':'Thr',\n",
    "              'aau':'Asn',\n",
    "              'aac':'Asn',\n",
    "              'aaa':'Lys',\n",
    "              'aag':'Lys',\n",
    "              'agu':'Ser',\n",
    "              'agc':'Ser',\n",
    "              'agg':'Arg',\n",
    "              'aga':'Arg',\n",
    "              'guu':'Val',\n",
    "              'guc':'Val',\n",
    "              'gua':'Val',\n",
    "              'gug':'Val',\n",
    "              'gcu':'Ala',\n",
    "              'gcc':'Ala',\n",
    "              'gca':'Ala',\n",
    "              'gcg':'Ala',\n",
    "              'gau':'Asp',\n",
    "              'gac':'Asp',\n",
    "              'gaa':'Glu',\n",
    "              'gag':'Glu',\n",
    "              'ggu':'Gly',\n",
    "              'ggc':'Gly',\n",
    "              'gga':'Gly',\n",
    "              'ggg':'Gly',}\n",
    "    \n",
    "    aasequences=[]\n",
    "    for num in range(0,len(Rgen)):\n",
    "        codon=Rgen[num:num+3]  # reads codon at every frame\n",
    "        if num>=len(Rgen)-2:\n",
    "            break\n",
    "        if humcodon[codon]=='Met':\n",
    "            aasequences2=[]  # placeholder aa sequence to see if it exceeds 10 aa\n",
    "            for num2 in range(num-1,len(Rgen),3):\n",
    "                codon2=Rgen[num2:num2+3]\n",
    "                aasequences2+=humcodon[codon2] #stores the aa sequence that follows after a 'Met'\n",
    "                if humcodon[codon2]=='XXX': \n",
    "                    if len(aasequences2)>30: #if placeholder aa sequence is greater than 10, it gets added to the main aa sequence list\n",
    "                        aasequences+=aasequences2\n",
    "                        break\n",
    "                if num2>=len(Rgen)-2:\n",
    "                    break\n",
    "    return ''.join(aasequences)\n",
    "\n",
    "ReturnReadingFrame(dna2rna(coronaGenome)) # website keeps on crashing when I try to test this, but I think it works(?)"
   ]
  },
  {
   "cell_type": "code",
   "execution_count": 139,
   "metadata": {},
   "outputs": [
    {
     "data": {
      "text/plain": [
       "''"
      ]
     },
     "execution_count": 139,
     "metadata": {},
     "output_type": "execute_result"
    }
   ],
   "source": [
    "ReturnReadingFrame('auggccuga')"
   ]
  },
  {
   "cell_type": "markdown",
   "metadata": {},
   "source": [
    "## Excercise 6: Extra Credit (Not optional for 272)\n",
    "\n",
    "Read through this [paper](https://www.biorxiv.org/content/10.1101/2022.10.18.512756v1.full.pdf) which claims to have evidence to support the lab leak theory based on the spacing and frequency of BsaI 'GGTCTC' and BsmBI 'CGTCTC' restriction sites used for [Golden Gate Assembly](https://www.neb.com/applications/cloning-and-synthetic-biology/dna-assembly-and-cloning/golden-gate-assembly).\n",
    "\n",
    "Using the following python function and ones that you have developed in the previous excercises generate 1000 random sequences. Calculate the number and size of BsaI 'GGTCTC' and BsmBI 'CGTCTC' generated fragments. Compare the distribution of sizes and number to the size and number of the COVID genome. How unlikely is it to get the distribution we have? Does this support the lab leak theory? \n",
    "\n",
    "```\n",
    "    import random\n",
    "\n",
    "    def generate_random_dna(length):\n",
    "        nucleotides = ['A', 'C', 'G', 'T']\n",
    "        return ''.join(random.choice(nucleotides) for _ in range(length))\n",
    "```\n",
    "\n",
    "\n"
   ]
  },
  {
   "cell_type": "code",
   "execution_count": null,
   "metadata": {},
   "outputs": [],
   "source": []
  },
  {
   "cell_type": "markdown",
   "metadata": {},
   "source": [
    "Include who you worked with here: <br />\n",
    "1) Ben Brigham  <br /> \n",
    "2)  Amy Chang <br />\n",
    "3) Jackie Wang<br />\n"
   ]
  },
  {
   "cell_type": "code",
   "execution_count": null,
   "metadata": {},
   "outputs": [],
   "source": []
  }
 ],
 "metadata": {
  "kernelspec": {
   "display_name": "Python 3 (ipykernel)",
   "language": "python",
   "name": "python3"
  },
  "language_info": {
   "codemirror_mode": {
    "name": "ipython",
    "version": 3
   },
   "file_extension": ".py",
   "mimetype": "text/x-python",
   "name": "python",
   "nbconvert_exporter": "python",
   "pygments_lexer": "ipython3",
   "version": "3.9.13"
  }
 },
 "nbformat": 4,
 "nbformat_minor": 4
}
