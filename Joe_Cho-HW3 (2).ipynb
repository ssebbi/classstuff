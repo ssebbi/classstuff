{
 "cells": [
  {
   "cell_type": "markdown",
   "metadata": {},
   "source": [
    "# Homework 3 - 2D Cellular Automata\n",
    "\n",
    "Upload the completed notebook with *firstname_lastname-HW3*.\n",
    "\n",
    "Remember: code needs to be implemented in your own words. No copy-pasting. "
   ]
  },
  {
   "cell_type": "markdown",
   "metadata": {},
   "source": [
    "## Excercise 1 \n",
    "\n",
    "Build an `update` function that takes a numpy array of 0s and 1s and implements the game of life rules on it using wrap-around boundary conditions. \n"
   ]
  },
  {
   "cell_type": "code",
   "execution_count": null,
   "metadata": {},
   "outputs": [],
   "source": [
    "import numpy as np\n",
    "import matplotlib.pyplot as plt\n",
    "%matplotlib inline\n",
    "\n",
    "\n",
    "def update(x):\n",
    "    rows,cols = x.shape\n",
    "    xnew = np.zeros(x.shape)\n",
    "    \n",
    "    for i, j in np.ndindex(x.shape): \n",
    "        left = j-1 if j-1 >= 0 else cols-1\n",
    "        right = j+1 if j+1 < cols else 0\n",
    "        up = i-1 if i-1 >= 0 else rows-1\n",
    "        down = i+1 if i+1 < rows else 0\n",
    "        \n",
    "        total = (x[i, left] #left\n",
    "                 + x[i, right]  #right\n",
    "                 + x[up, j]  #up\n",
    "                 + x[down, j]  #down\n",
    "                 + x[up, left] #up left\n",
    "                 + x[up, right] #up right\n",
    "                 + x[down, left] #down left\n",
    "                 + x[down, right]) #down right\n",
    "        \n",
    "        if x[i,j] == 1: # look and see if the current cell is alive (if alive...)\n",
    "            \n",
    "            if (total < 2) or (total > 3): # over population and underpopulation\n",
    "                xnew[i,j] = 0\n",
    "            else: # any cell with 2 or 3 neighbors\n",
    "                xnew[i,j] = 1\n",
    "        \n",
    "        else: # equivalent to if x[i,j] == 0\n",
    "            \n",
    "            if total == 3: # condition of birth\n",
    "                xnew[i,j] = 1\n",
    "            else:\n",
    "                xnew[i,j] = 0\n",
    "\n",
    "    return xnew\n",
    "\n"
   ]
  },
  {
   "cell_type": "markdown",
   "metadata": {},
   "source": [
    "## Excercise 2\n",
    "Use the `plant_seed` function provided to place the follow a glider (also provided) on a 20x20 grid. Animate the glider forward in time 100 generations.  "
   ]
  },
  {
   "cell_type": "code",
   "execution_count": null,
   "metadata": {},
   "outputs": [],
   "source": [
    "    \n",
    "def ceil(a, b):\n",
    "    return -(-a // b)\n",
    "\n",
    "def plant_seed(seed, nrow, ncol):\n",
    "    soil = np.zeros((nrow, ncol))\n",
    "    start_row = (nrow - seed.shape[0]) // 2\n",
    "    start_col = (ncol - seed.shape[1]) // 2\n",
    "    soil[start_row: start_row + seed.shape[0], \n",
    "         start_col: start_col + seed.shape[1]] = seed\n",
    "    \n",
    "    return soil\n",
    "\n",
    "\n",
    "    \n",
    "\n",
    "    \n",
    "glider = np.array([[0,1,0],\n",
    "[0,0,1],\n",
    "[1,1,1]])\n",
    "\n",
    "universe = plant_seed(glider, 20, 20)\n",
    "\n",
    "for i in range(100):\n",
    "    \n",
    "    plt.figure(figsize = (20,20))\n",
    "    plt.imshow(universe, cmap='gray')\n",
    "    universe=update(universe)"
   ]
  },
  {
   "cell_type": "markdown",
   "metadata": {},
   "source": [
    "## Excercise 3\n",
    "\n",
    "Bacterial populations have been shown to compete in a real-life rock paper scissors game that results in complex dynamics. \n",
    "\n",
    "If you want to learn more about this see *Benjamin Kerr, Margaret A. Riley, Marcus W. Feldman & Brendan J. M. Bohannan. Local dispersal promotes biodiversity in a real-life game of rock-paper-scissors*\n",
    "\n",
    "Simulate these competing bacterial populations using a 3 state, 2D CA where the states are 0, 1, and 2. Use the rock-paper-scissors rule where 1 beats 0, 2 beats 1, and 0 beats 2. \n",
    "\n",
    "Make the rule set such that each cell plays against all cells in its neighborhood and adopts the state of any cell that beats it. \n",
    "\n",
    "Use the Moore neighborhood (https://en.wikipedia.org/wiki/Moore_neighborhood) and wraparound boundary conditions. \n",
    "\n",
    "Simulate both random initial conditions and sectored initial conditions, meaning 3 quadrants of 0,1,2.\n",
    "\n",
    "\n",
    "\n"
   ]
  },
  {
   "cell_type": "code",
   "execution_count": 71,
   "metadata": {},
   "outputs": [
    {
     "data": {
      "image/png": "[encoded data removed]",
      "text/plain": [
       "<Figure size 640x480 with 2 Axes>"
      ]
     },
     "metadata": {},
     "output_type": "display_data"
    }
   ],
   "source": [
    "\n",
    "#rock paper scissors\n",
    "def fistpalmpeace(a, b):\n",
    "    rows, cols = a.shape\n",
    "    a2 = np.zeros((rows, cols), dtype=np.int8)\n",
    "    for i in range(b):\n",
    "        for row in range(rows):\n",
    "            for col in range(cols):\n",
    "                total = [a[row-1, col-1], a[row-1, col], a[row-1, (col+1)%cols],\n",
    "                             a[row, col-1], a[row, (col+1)%cols],\n",
    "                             a[(row+1)%rows, col-1], a[(row+1)%rows, col], a[(row+1)%rows, (col+1)%cols]]\n",
    "                cd = np.argmax(np.bincount(total))\n",
    "                a2[row, col] = cd\n",
    "        a = a2\n",
    "    return a2\n",
    "\n",
    "\n",
    "# random initial conditions\n",
    "def initial(rows, cols):\n",
    "    return np.random.randint(0, 3, size=(rows, cols), dtype=np.int8)\n",
    "\n",
    "a = initial(20, 20)\n",
    "a2 = fistpalmpeace(a, 100)\n",
    "\n",
    "plt.imshow(a2, cmap='plasma')\n",
    "plt.colorbar(ticks=[0, 1, 2])\n",
    "plt.show()\n",
    "\n",
    "\n",
    "#probably doesn't work but hopefully you can see the vision"
   ]
  },
  {
   "cell_type": "markdown",
   "metadata": {},
   "source": [
    "# Excercise 4: Extra Credit (Not optional for graduate students)\n",
    "Review this week's reading entitled *Cellular Automata Approaches to Biological Modeling*.\n",
    "Implement the Young Model, the coupled oscillator model, or a Growth Automata model (such as diffusion limited aggregation). Comment on how your simulation could be used to increase intuition on the biological phenomenon simulated.\n"
   ]
  },
  {
   "cell_type": "markdown",
   "metadata": {},
   "source": []
  },
  {
   "cell_type": "markdown",
   "metadata": {},
   "source": [
    "Please state who you worked with:"
   ]
  },
  {
   "cell_type": "code",
   "execution_count": null,
   "metadata": {},
   "outputs": [],
   "source": []
  }
 ],
 "metadata": {
  "kernelspec": {
   "display_name": "Python 3 (ipykernel)",
   "language": "python",
   "name": "python3"
  },
  "language_info": {
   "codemirror_mode": {
    "name": "ipython",
    "version": 3
   },
   "file_extension": ".py",
   "mimetype": "text/x-python",
   "name": "python",
   "nbconvert_exporter": "python",
   "pygments_lexer": "ipython3",
   "version": "3.9.13"
  }
 },
 "nbformat": 4,
 "nbformat_minor": 4
}
